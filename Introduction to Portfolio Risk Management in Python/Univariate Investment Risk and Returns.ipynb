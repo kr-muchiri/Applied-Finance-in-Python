{
 "cells": [
  {
   "attachments": {},
   "cell_type": "markdown",
   "metadata": {},
   "source": [
    "## Financial timeseries data\n",
    "In finance, it is common to be working with a CSV (comma-separated-values) \"flat\" file of a timeseries of many different assets with their prices, returns, or other data over time. Sometimes the data is stored in databases, but more often than not, even large banks still use spreadsheets.\n",
    "\n",
    "In this exercise, you have been given a timeseries of trading data for Microsoft stock as a .csv file stored at the url fpath_csv. When you finish the exercise, take note of the various types of data stored in each column.\n",
    "\n",
    "You will be using pandas to read in the CSV data as a DataFrame."
   ]
  },
  {
   "cell_type": "code",
   "execution_count": null,
   "metadata": {},
   "outputs": [],
   "source": [
    "# Import pandas as pd\n",
    "import pandas as pd \n",
    "\n",
    "# Read in the csv file and parse dates\n",
    "StockPrices = pd.read_csv(fpath_csv, parse_dates=['Date'])\n",
    "\n",
    "# Read in the csv file and parse dates\n",
    "StockPrices = pd.read_csv(fpath_csv, parse_dates=['Date'])\n",
    "\n",
    "# Ensure the prices are sorted by Date\n",
    "StockPrices = StockPrices.sort_values(by='Date')\n",
    "\n",
    "# Print only the first five rows of StockPrices\n",
    "print(StockPrices.head())\n",
    "\n"
   ]
  },
  {
   "attachments": {},
   "cell_type": "markdown",
   "metadata": {},
   "source": [
    "## Calculating financial returns\n",
    "In the previous exercise, the loaded file contained daily data for Open, High, Low, Close, Adjusted Close, and Volume, commonly known as OHLCV data. The Adjusted Close column is particularly crucial as it adjusts for stock splits, dividends, and other corporate actions, providing an accurate representation of the stock's return over time. To calculate the returns of the stock in this exercise, we will be using the adjusted close price.\n",
    "\n",
    "StockPrices from the previous exercise is available in your workspace, and matplotlib.pyplot is imported as plt."
   ]
  },
  {
   "cell_type": "code",
   "execution_count": null,
   "metadata": {},
   "outputs": [],
   "source": [
    "# Calculate the daily returns of the adjusted close price\n",
    "StockPrices['Returns'] = StockPrices['Adjusted'].pct_change()\n",
    "\n",
    "# Check the first five rows of StockPrices\n",
    "print(StockPrices.head())\n",
    "\n",
    "# Plot the returns column over time\n",
    "StockPrices['Returns'].plot()\n",
    "plt.show()"
   ]
  },
  {
   "attachments": {},
   "cell_type": "markdown",
   "metadata": {},
   "source": [
    "## Return distributions\n",
    "To assess the likelihood of outliers in returns, it's useful to create a histogram that displays the historical returns of a stock. By using a histogram, you can illustrate the density or frequency of returns within specific ranges. It's important to take note of the outliers on the left-hand side of the distribution, as these represent significant negative daily returns that you would want to avoid. Conversely, outliers on the right-hand side of the distribution typically represent positive events for the stock, such as a positive earnings surprise."
   ]
  },
  {
   "cell_type": "code",
   "execution_count": null,
   "metadata": {},
   "outputs": [],
   "source": [
    "# Convert the decimal returns into percentage returns\n",
    "percent_return = StockPrices['Returns']*100\n",
    "\n",
    "# Drop the missing values\n",
    "returns_plot = percent_return.dropna()\n",
    "\n",
    "# Plot the returns histogram\n",
    "plt.hist(returns_plot, bins=75)\n",
    "plt.show()"
   ]
  },
  {
   "attachments": {},
   "cell_type": "markdown",
   "metadata": {},
   "source": [
    "\n",
    "\n",
    "To determine the mean historical return of a stock, you can utilize the mean() function from NumPy. In essence, computing the average daily return of a stock involves estimating the distribution's first moment (μ).\n",
    "\n",
    "However, when assessing the usefulness of daily return estimates for a long-term investor, it's necessary to estimate the stock's average annual return. You can use the following formula to do so, which requires the average daily return and the number of trading days within a year (usually around 252 trading days per year):\n",
    "\n",
    "$ Average Annualized Return = ((1+μ)^(252))-1 $\n"
   ]
  }
 ],
 "metadata": {
  "language_info": {
   "name": "python"
  },
  "orig_nbformat": 4
 },
 "nbformat": 4,
 "nbformat_minor": 2
}
